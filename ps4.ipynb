{
 "cells": [
  {
   "cell_type": "markdown",
   "metadata": {},
   "source": [
    "# Άσκηση 3\n",
    "Μέθοδος Gauss Hermite"
   ]
  },
  {
   "cell_type": "code",
   "execution_count": 88,
   "metadata": {},
   "outputs": [],
   "source": [
    "import numpy as np\n",
    "import matplotlib.pyplot as plt\n",
    "import matplotlib.ticker as ticker\n",
    "import math"
   ]
  },
  {
   "cell_type": "code",
   "execution_count": 2,
   "metadata": {},
   "outputs": [],
   "source": [
    "def y(x):\n",
    "    return x + 2*(x**2)-(x**3)+4*(x**4)-3*(x**5)\n",
    "#we define the function y under the integral"
   ]
  },
  {
   "cell_type": "code",
   "execution_count": 28,
   "metadata": {},
   "outputs": [],
   "source": [
    "#Hermite - Gauss matrix of values\n",
    "def valuesX(n):\n",
    "    if n == 2:\n",
    "        xi = [-0.70710678,0.70710678]\n",
    "        return xi\n",
    "    if n == 4:\n",
    "        xi = [-1.65068012,-0.52464762,1.65068012, 0.52464762]\n",
    "        return xi\n",
    "    if n == 6:\n",
    "        xi = [-2.35060497,-1.33584907,-0.43607741,2.35060497, 1.33584907, 0.43607741,]\n",
    "        return xi\n",
    "    else:\n",
    "        print(\"I'm sorry, I don't know the values of xi\")\n",
    "\n",
    "def valuesA(n):\n",
    "    if n == 2:\n",
    "        Ai = [0.88622693]\n",
    "        return Ai\n",
    "    if n==4:\n",
    "        Ai = [0.08131284,0.80491409]\n",
    "        return Ai\n",
    "    if n==6:\n",
    "        Ai = [0.00453001,0.15706732,0.72462960]\n",
    "        return Ai\n",
    "    else:\n",
    "        print(\"I'm sorry, I don't know the values of Ai\")"
   ]
  },
  {
   "cell_type": "code",
   "execution_count": 29,
   "metadata": {},
   "outputs": [],
   "source": [
    "#Now the method to calculate the integral\n",
    "def HG(n):\n",
    "    Ai = valuesA(n)\n",
    "    xi = valuesX(n)\n",
    "    result = 0\n",
    "    i = 0\n",
    "    while i<n:\n",
    "        for j in range(0,len(Ai)):\n",
    "            print(Ai[j], \"and\", xi[i])\n",
    "            result = result + Ai[j]*y(xi[i])\n",
    "            i=i+1\n",
    "            \n",
    "    return result\n"
   ]
  },
  {
   "cell_type": "code",
   "execution_count": 32,
   "metadata": {},
   "outputs": [
    {
     "name": "stdout",
     "output_type": "stream",
     "text": [
      "0.88622693 and -0.70710678\n",
      "0.88622693 and 0.70710678\n",
      "For 2 points we get: 3.544907702154599\n",
      "0.08131284 and -1.65068012\n",
      "0.80491409 and -0.52464762\n",
      "0.08131284 and 1.65068012\n",
      "0.80491409 and 0.52464762\n",
      "For 4 points we get: 7.08981565074285\n",
      "0.00453001 and -2.35060497\n",
      "0.15706732 and -1.33584907\n",
      "0.7246296 and -0.43607741\n",
      "0.00453001 and 2.35060497\n",
      "0.15706732 and 1.33584907\n",
      "0.7246296 and 0.43607741\n",
      "For 6 points we get: 7.089815352635704\n"
     ]
    }
   ],
   "source": [
    "#Let's try the method now\n",
    "\n",
    "I2 = HG(2)\n",
    "print(\"For 2 points we get:\", I2)\n",
    "\n",
    "I4 = HG(4)\n",
    "print(\"For 4 points we get:\", I4)\n",
    "\n",
    "I6 = HG(6)\n",
    "print(\"For 6 points we get:\", I6)"
   ]
  },
  {
   "cell_type": "code",
   "execution_count": 37,
   "metadata": {},
   "outputs": [
    {
     "data": {
      "image/png": "[encoded data removed]",
      "text/plain": [
       "<Figure size 432x288 with 1 Axes>"
      ]
     },
     "metadata": {
      "needs_background": "light"
     },
     "output_type": "display_data"
    }
   ],
   "source": [
    "I = [I2,I4,I6]\n",
    "n = [2,4,6]\n",
    "plt.plot(n,I,color ='green', label =\"Approximation of integral value\")\n",
    "plt.grid(True)\n",
    "plt.xticks([1,2,3,4,5,6])\n",
    "plt.xlabel('n')\n",
    "plt.ylabel('I')\n",
    "plt.legend()\n",
    "plt.show()"
   ]
  },
  {
   "cell_type": "code",
   "execution_count": 39,
   "metadata": {},
   "outputs": [
    {
     "name": "stdout",
     "output_type": "stream",
     "text": [
      "The rate of convergence is calculated to be: -11891388.736467497\n"
     ]
    }
   ],
   "source": [
    "#Calculate rate of convergence:\n",
    "rate = (I4-I2)/(I6-I4)\n",
    "print(\"The rate of convergence is calculated to be:\", rate)"
   ]
  },
  {
   "cell_type": "code",
   "execution_count": 42,
   "metadata": {},
   "outputs": [
    {
     "name": "stdout",
     "output_type": "stream",
     "text": [
      "The error is of magnitude: 23.503413874351406\n"
     ]
    }
   ],
   "source": [
    "#knowing that this rate is supposedly almost equal to 2^a we can calculated said a\n",
    "ln2 = np.log(2)\n",
    "a = np.log(abs(rate))/ln2\n",
    "print(\"The error is of magnitude:\", a)"
   ]
  },
  {
   "cell_type": "markdown",
   "metadata": {},
   "source": [
    "# Άσκηση 4\n",
    "Runge Kutra 4ης Τάξης"
   ]
  },
  {
   "cell_type": "code",
   "execution_count": 74,
   "metadata": {},
   "outputs": [],
   "source": [
    "def yy(x,y):\n",
    "    a = np.exp(y)\n",
    "    yy = (x-np.exp(x))/(y+a)\n",
    "    return yy"
   ]
  },
  {
   "cell_type": "code",
   "execution_count": 85,
   "metadata": {},
   "outputs": [],
   "source": [
    "def RK(h,x):\n",
    "    yn = 0\n",
    "    xn = 0\n",
    "    n = int(1/h)\n",
    "    X = [xn]\n",
    "    Y = [yn]\n",
    "    \n",
    "    if x<0:\n",
    "        h = -h\n",
    "\n",
    "    for i in range (0,n):\n",
    "        k1 = h*yy(xn,yn)\n",
    "        k2 = h*yy(xn+(h/2),yn+(k1/2))\n",
    "        k3 = h* yy(xn+(h/2),yn+(k2/2))\n",
    "        k4 = h*yy(xn+h,yn+k3)\n",
    "        yn = yn +((1/6)*(k1+2*k2+2*k3+k4))\n",
    "        xn = xn + h\n",
    "        \n",
    "        X.append(xn)\n",
    "        Y.append(yn)\n",
    "       \n",
    "    return yn"
   ]
  },
  {
   "cell_type": "markdown",
   "metadata": {},
   "source": [
    "Let's try it out. First for x = 1"
   ]
  },
  {
   "cell_type": "code",
   "execution_count": 86,
   "metadata": {},
   "outputs": [
    {
     "name": "stdout",
     "output_type": "stream",
     "text": [
      "For h = 1/50 we get:\n",
      "-2.237120434529838\n",
      "\n",
      "For h = 1/100 we get:\n",
      "-0.3831741434760199\n",
      "\n",
      "And finally, for h = 1/200 we get:\n",
      "-1.4386506253625384\n"
     ]
    }
   ],
   "source": [
    "print(\"For h = 1/50 we get:\")\n",
    "print(RK(1/50,1))\n",
    "print(\"\\nFor h = 1/100 we get:\")\n",
    "print(RK(1/100,1))\n",
    "print(\"\\nAnd finally, for h = 1/200 we get:\")\n",
    "print(RK(1/200,1))"
   ]
  },
  {
   "cell_type": "markdown",
   "metadata": {},
   "source": [
    "While for x = -1"
   ]
  },
  {
   "cell_type": "code",
   "execution_count": 81,
   "metadata": {},
   "outputs": [
    {
     "name": "stdout",
     "output_type": "stream",
     "text": [
      "For h = 1/50 we get:\n",
      "0.6520749830944439\n",
      "\n",
      "For h = 1/100 we get:\n",
      "0.6520749818537084\n",
      "\n",
      "And finally, for h - 1/200 we get:\n",
      "0.6520749817781245\n"
     ]
    }
   ],
   "source": [
    "print(\"For h = 1/50 we get:\")\n",
    "print(RK(1/50,-1))\n",
    "print(\"\\nFor h = 1/100 we get:\")\n",
    "print(RK(1/100,-1))\n",
    "print(\"\\nAnd finally, for h - 1/200 we get:\")\n",
    "print(RK(1/200,-1))"
   ]
  },
  {
   "cell_type": "markdown",
   "metadata": {},
   "source": [
    "Convergence\n"
   ]
  },
  {
   "cell_type": "code",
   "execution_count": 82,
   "metadata": {},
   "outputs": [
    {
     "name": "stdout",
     "output_type": "stream",
     "text": [
      "For x = 1:\n",
      "-1.7565017533504346\n",
      "\n",
      "For x = -1:\n",
      "16.41534726108587\n"
     ]
    }
   ],
   "source": [
    "def conv(x):\n",
    "    I1 = RK(1/50,x)\n",
    "    I2 = RK(1/100,x)\n",
    "    I3 = RK(1/200,x)\n",
    "    return (I2-I1)/(I3-I2)\n",
    "\n",
    "print(\"For x = 1:\")\n",
    "print(conv(1))\n",
    "print(\"\\nFor x = -1:\")\n",
    "print(conv(-1))"
   ]
  },
  {
   "cell_type": "markdown",
   "metadata": {},
   "source": [
    "# Άσκηση 2\n",
    "Μέθοδος Filon - Μέθοδος Simpson"
   ]
  },
  {
   "cell_type": "code",
   "execution_count": 313,
   "metadata": {},
   "outputs": [],
   "source": [
    "def Gauss(Matrix,co,n):\n",
    "    \n",
    "    sol = np.zeros(n)\n",
    "    a = np.zeros((n,n+1))\n",
    "                \n",
    "                \n",
    "    for i in range(0,n):\n",
    "        for j in range(0,n):\n",
    "            a[i][j] = Matrix[i][j]\n",
    "    for i in range(0,n):\n",
    "        a[i][n] = co[i]\n",
    "        \n",
    "    for i in range(0,n):\n",
    "        if Matrix[i][i] == 0:\n",
    "            \n",
    "            #This is dividing by zero. We can't do this.\n",
    "            break\n",
    "        \n",
    "        for j in range(i+1, n):\n",
    "            \n",
    "            #let's fix the matrix up a little\n",
    "            r = a[j][i]/a[i][i]\n",
    "        \n",
    "            for k in range(0,n+1):\n",
    "                a[j][k] = a[j][k] - r * a[i][k]\n",
    "                \n",
    "    sol[n-1] = a[n-1][n]/a[n-1][n-1]\n",
    "    #basically this is the xn = bn/ann\n",
    "    #now we will go backwards (a is now an upper trigonal matrix)\n",
    "    for i in range(n-2,-1,-1):\n",
    "        sol[i] = a[i][n]\n",
    "    \n",
    "        for j in range(i+1,n):\n",
    "            sol[i] = sol[i] - a[i][j]*sol[j]\n",
    "    \n",
    "        sol[i] = sol[i]/a[i][i]\n",
    "\n",
    "    A=[]   \n",
    "    print('The required solution is: ')\n",
    "    for i in range(0,n):\n",
    "        print('A',i+1,'=', (sol[i]))\n",
    "        A.append((sol[i]))\n",
    "    return A"
   ]
  },
  {
   "cell_type": "code",
   "execution_count": 309,
   "metadata": {},
   "outputs": [],
   "source": [
    "l = math.pi\n",
    "S = [[1,1,1,1,1],[0,18*l,36*l,54*l,72*l],[0,(18*l)**2,(36*l)**2,(54*l)**2,(72*l)**2],[0,(18*l)**3,(36*l)**3,(54*l)**3,(72*l)**3],[0,(18*l)**4,(36*l)**4,(54*l)**4,(72*l)**4]]\n",
    "B = [0,-72*l,-5184*(l**2),432*l-373248*(l**3),62208*(l**2)-26873856*(l**4)]\n"
   ]
  },
  {
   "cell_type": "code",
   "execution_count": 310,
   "metadata": {},
   "outputs": [
    {
     "name": "stdout",
     "output_type": "stream",
     "text": [
      "The required solution is: \n",
      "A 1 = 0.9993745605948029\n",
      "A 2 = 0.0012508788103914408\n",
      "A 3 = 9.101341204944997e-15\n",
      "A 4 = -0.0012508788104040592\n",
      "A 5 = -0.9993745605947993\n"
     ]
    }
   ],
   "source": [
    "A = Gauss(S,B,5)"
   ]
  },
  {
   "cell_type": "code",
   "execution_count": 311,
   "metadata": {},
   "outputs": [
    {
     "data": {
      "image/png": "[encoded data removed]",
      "text/plain": [
       "<Figure size 432x288 with 1 Axes>"
      ]
     },
     "metadata": {
      "needs_background": "light"
     },
     "output_type": "display_data"
    }
   ],
   "source": [
    "def f(x):\n",
    "    f = 12*np.exp((x/12)-15)\n",
    "    return f\n",
    "def g(x):\n",
    "    g = np.exp(x-15)*np.sin(12*x)\n",
    "    return g\n",
    "\n",
    "xpoints = np.linspace(0,6*math.pi,1000) \n",
    "gpoints = abs(g(xpoints))\n",
    "\n",
    "plot1 = plt.plot(xpoints, gpoints, color ='green', label =\"new f(x)\")\n",
    "plt.grid(True)\n",
    "plt.legend()\n",
    "plt.show(plot1)"
   ]
  },
  {
   "cell_type": "markdown",
   "metadata": {},
   "source": [
    "Basically to find the integral's value:"
   ]
  },
  {
   "cell_type": "code",
   "execution_count": 312,
   "metadata": {},
   "outputs": [
    {
     "name": "stdout",
     "output_type": "stream",
     "text": [
      "The result is:\n",
      "-563.3201816599219\n"
     ]
    }
   ],
   "source": [
    "def Filon(A):\n",
    "    #remember the value of l\n",
    "    result = A[0]*f(0)+A[1]*f(18*l)+A[2]*f(36*l)+A[3]*f(54*l)+A[4]*f(72*l)\n",
    "    print(\"The result is:\")\n",
    "    print(result)\n",
    "Filon(A)\n",
    "                                                                    "
   ]
  },
  {
   "cell_type": "code",
   "execution_count": 277,
   "metadata": {},
   "outputs": [],
   "source": [
    "def Simpson(n):\n",
    "    sum = 0\n",
    "    m = n-1\n",
    "    #m is the subintervals now\n",
    "    #step:\n",
    "    h = 6*l/m\n",
    "    print(\"h =\",h)\n",
    "    #creating lists for the solution's progretion and the points\n",
    "    sol =[]\n",
    "    xn=[0]\n",
    "    gx = [g(0)]\n",
    "    #filling the list of xs (points)\n",
    "    for j in range(1,n):\n",
    "        xn.append(xn[j-1]+h)\n",
    "        gx.append(g(xn[j]))\n",
    "        \n",
    "    \n",
    "    \n",
    "    print(\"The value of f at the end is:\", g(6*math.pi))\n",
    "    #method\n",
    "    \n",
    "    i = 1\n",
    "    while i <= (m-1):\n",
    "        #n = 5 --> m = 4 --> so i from 1 to 3 (twice)\n",
    "        sum = sum + 4*gx[i]\n",
    "        i = i + 2\n",
    "            \n",
    "    i = 2\n",
    "    while i<=(m-2):\n",
    "        #n=5 --> m = 4 --> so i runs from 2 to 2 (once)\n",
    "        sum = sum + 2*gx[i]\n",
    "        i = i + 2\n",
    "        \n",
    "    sum = gx[0]+gx[m]    \n",
    "    print(\"The sum of f(x)s before we multiply with h/3 is:\", sum)\n",
    "    solution = sum*h/3\n",
    "    \n",
    "    print(\"For\", n, \"points, the solution is:\", solution)\n",
    "\n"
   ]
  },
  {
   "cell_type": "code",
   "execution_count": 278,
   "metadata": {},
   "outputs": [
    {
     "name": "stdout",
     "output_type": "stream",
     "text": [
      "h = 4.71238898038469\n",
      "The value of f at the end is: -4.141753449797219e-13\n",
      "The sum of f(x)s before we multiply with h/3 is: -4.141753449797219e-13\n",
      "For 5 points, the solution is: -6.505851105431563e-13\n"
     ]
    }
   ],
   "source": [
    "sol5 = Simpson(5)"
   ]
  },
  {
   "cell_type": "code",
   "execution_count": 279,
   "metadata": {},
   "outputs": [
    {
     "name": "stdout",
     "output_type": "stream",
     "text": [
      "h = 1.8849555921538759\n",
      "The value of f at the end is: -4.141753449797219e-13\n",
      "The sum of f(x)s before we multiply with h/3 is: -4.141753449797219e-13\n",
      "For 11 points, the solution is: -2.602340442172625e-13\n"
     ]
    }
   ],
   "source": [
    "sol10 = Simpson(11)"
   ]
  },
  {
   "cell_type": "code",
   "execution_count": 280,
   "metadata": {},
   "outputs": [
    {
     "name": "stdout",
     "output_type": "stream",
     "text": [
      "h = 0.03769911184307752\n",
      "The value of f at the end is: -4.141753449797219e-13\n",
      "The sum of f(x)s before we multiply with h/3 is: -4.141753449797219e-13\n",
      "For 501 points, the solution is: -5.20468088434525e-15\n"
     ]
    }
   ],
   "source": [
    "sol500 = Simpson(501)"
   ]
  },
  {
   "cell_type": "code",
   "execution_count": 281,
   "metadata": {},
   "outputs": [
    {
     "name": "stdout",
     "output_type": "stream",
     "text": [
      "h = 0.01884955592153876\n",
      "The value of f at the end is: -4.141753449797219e-13\n",
      "The sum of f(x)s before we multiply with h/3 is: 1.6941217236807657e-11\n",
      "For 1001 points, the solution is: 1.0644480722804742e-13\n"
     ]
    }
   ],
   "source": [
    "sol1000 = Simpson(1001)"
   ]
  },
  {
   "cell_type": "code",
   "execution_count": 282,
   "metadata": {},
   "outputs": [
    {
     "name": "stdout",
     "output_type": "stream",
     "text": [
      "h = 0.00942477796076938\n",
      "The value of f at the end is: -4.141753449797219e-13\n",
      "The sum of f(x)s before we multiply with h/3 is: -1.7769567926765988e-11\n",
      "For 2001 points, the solution is: -5.5824744056192834e-14\n"
     ]
    }
   ],
   "source": [
    "sol2000 = Simpson(2001)"
   ]
  },
  {
   "cell_type": "code",
   "execution_count": 283,
   "metadata": {},
   "outputs": [
    {
     "name": "stdout",
     "output_type": "stream",
     "text": [
      "h = 0.0001884955592153876\n",
      "The value of f at the end is: -4.141753449797219e-13\n",
      "The sum of f(x)s before we multiply with h/3 is: -2.2478317628259712e-08\n",
      "For 100001 points, the solution is: -1.4123543505199731e-12\n"
     ]
    }
   ],
   "source": [
    "sol100000 = Simpson(100001)"
   ]
  },
  {
   "cell_type": "markdown",
   "metadata": {},
   "source": [
    "#other way to write the method\n",
    "    #for j in range(1,int((n-1)/2) + 1):\n",
    "        #n = 5 --> this runs until j = 2\n",
    "        sum = sum + 4*g(xn[2*i-1])\n",
    "    #for j in range(1,int((n-3)/2)):\n",
    "        #n = 5 --> this runs until j=1\n",
    "        sum = sum + 2*g(xn[2*i])\n",
    "    #sum = sum + g(xn[0])+g(xn[n-1])"
   ]
  },
  {
   "cell_type": "code",
   "execution_count": 285,
   "metadata": {},
   "outputs": [],
   "source": [
    "#Let's rewrite it for the interval (15,6pi) where f is mostly non zero\n",
    "def Simpson2(n):\n",
    "    sum = 0\n",
    "    m = n-1\n",
    "    #m is the subintervals now\n",
    "    #step:\n",
    "    h = (6*l-15)/m\n",
    "    print(\"h =\",h)\n",
    "    #creating lists for the solution's progretion and the points\n",
    "    sol =[]\n",
    "    xn=[0]\n",
    "    gx = [g(0)]\n",
    "    #filling the list of xs (points)\n",
    "    for j in range(1,n):\n",
    "        xn.append(xn[j-1]+h)\n",
    "        gx.append(g(xn[j]))\n",
    "        \n",
    "    \n",
    "    \n",
    "    print(\"The value of f at the end is:\", g(6*math.pi))\n",
    "    #method\n",
    "    \n",
    "    i = 1\n",
    "    while i <= (m-1):\n",
    "        #n = 5 --> m = 4 --> so i from 1 to 3 (twice)\n",
    "        sum = sum + 4*gx[i]\n",
    "        i = i + 2\n",
    "            \n",
    "    i = 2\n",
    "    while i<=(m-2):\n",
    "        #n=5 --> m = 4 --> so i runs from 2 to 2 (once)\n",
    "        sum = sum + 2*gx[i]\n",
    "        i = i + 2\n",
    "        \n",
    "    sum = gx[0]+gx[m]    \n",
    "    print(\"The sum of f(x)s before we multiply with h/3 is:\", sum)\n",
    "    solution = sum*h/3\n",
    "    \n",
    "    print(\"For\", n, \"points, the solution is:\", solution)"
   ]
  },
  {
   "cell_type": "code",
   "execution_count": 292,
   "metadata": {},
   "outputs": [
    {
     "name": "stdout",
     "output_type": "stream",
     "text": [
      "h = 0.9623889803846897\n",
      "The value of f at the end is: -4.141753449797219e-13\n",
      "The sum of f(x)s before we multiply with h/3 is: 1.1511685914587214e-05\n",
      "For 5 points, the solution is: 3.6929065566161274e-06\n"
     ]
    }
   ],
   "source": [
    "#Let us repeat\n",
    "s5 = Simpson2(5)"
   ]
  },
  {
   "cell_type": "code",
   "execution_count": 293,
   "metadata": {},
   "outputs": [
    {
     "name": "stdout",
     "output_type": "stream",
     "text": [
      "h = 0.38495559215387587\n",
      "The value of f at the end is: -4.141753449797219e-13\n",
      "The sum of f(x)s before we multiply with h/3 is: 1.1511685914587214e-05\n",
      "For 11 points, the solution is: 1.4771626226464508e-06\n"
     ]
    }
   ],
   "source": [
    "s10 = Simpson2(11)"
   ]
  },
  {
   "cell_type": "code",
   "execution_count": 294,
   "metadata": {},
   "outputs": [
    {
     "name": "stdout",
     "output_type": "stream",
     "text": [
      "h = 0.007699111843077517\n",
      "The value of f at the end is: -4.141753449797219e-13\n",
      "The sum of f(x)s before we multiply with h/3 is: 1.1511685914585056e-05\n",
      "For 501 points, the solution is: 2.954325245292348e-08\n"
     ]
    }
   ],
   "source": [
    "s500 = Simpson2(501)"
   ]
  },
  {
   "cell_type": "code",
   "execution_count": 295,
   "metadata": {},
   "outputs": [
    {
     "name": "stdout",
     "output_type": "stream",
     "text": [
      "h = 0.0038495559215387587\n",
      "The value of f at the end is: -4.141753449797219e-13\n",
      "The sum of f(x)s before we multiply with h/3 is: 1.1511685914584507e-05\n",
      "For 1001 points, the solution is: 1.4771626226461036e-08\n"
     ]
    }
   ],
   "source": [
    "s1000 = Simpson2(1001)"
   ]
  },
  {
   "cell_type": "code",
   "execution_count": 296,
   "metadata": {},
   "outputs": [
    {
     "name": "stdout",
     "output_type": "stream",
     "text": [
      "h = 0.0019247779607693793\n",
      "The value of f at the end is: -4.141753449797219e-13\n",
      "The sum of f(x)s before we multiply with h/3 is: 1.151168591458422e-05\n",
      "For 2001 points, the solution is: 7.385813113230334e-09\n"
     ]
    }
   ],
   "source": [
    "s2000 = Simpson2(2001)"
   ]
  },
  {
   "cell_type": "code",
   "execution_count": 297,
   "metadata": {},
   "outputs": [
    {
     "name": "stdout",
     "output_type": "stream",
     "text": [
      "h = 3.849555921538759e-05\n",
      "The value of f at the end is: -4.141753449797219e-13\n",
      "The sum of f(x)s before we multiply with h/3 is: 1.151168591431095e-05\n",
      "For 100001 points, the solution is: 1.4771626226110014e-10\n"
     ]
    }
   ],
   "source": [
    "s100000 = Simpson2(100001)"
   ]
  },
  {
   "cell_type": "markdown",
   "metadata": {},
   "source": [
    "not helpful"
   ]
  },
  {
   "cell_type": "code",
   "execution_count": 298,
   "metadata": {},
   "outputs": [],
   "source": [
    "def Simpson3(n):\n",
    "    sum = 0\n",
    "    m = n-1\n",
    "    #m is the subintervals now\n",
    "    #step:\n",
    "    h = 6*l/m\n",
    "    print(\"h =\",h)\n",
    "    #creating lists for the solution's progretion and the points\n",
    "    sol =[]\n",
    "    xn=[0]\n",
    "    gx = [g(0)]\n",
    "    #filling the list of xs (points)\n",
    "    for j in range(1,n):\n",
    "        xn.append(xn[j-1]+h)\n",
    "        gx.append(g(xn[j]))\n",
    "        \n",
    "    i = 0\n",
    "    while i<=m-2:\n",
    "        sum = sum +gx[i]+4*gx[i+1]+gx[i+2]\n",
    "        i = i+2\n",
    "        #this is the only way to link what we wrote while solving problems \n",
    "        #and mr Stergioulas' notes\n",
    "    \n",
    "    print(\"The value of f at the end is:\", g(6*math.pi))\n",
    "    #method\n",
    "    \n",
    "    \n",
    "    print(\"The sum of f(x)s before we multiply with h/3 is:\", sum)\n",
    "    solution = sum*h/3\n",
    "    \n",
    "    print(\"For\", n, \"points, the solution is:\", solution)\n"
   ]
  },
  {
   "cell_type": "code",
   "execution_count": 299,
   "metadata": {},
   "outputs": [
    {
     "name": "stdout",
     "output_type": "stream",
     "text": [
      "h = 4.71238898038469\n",
      "The value of f at the end is: -4.141753449797219e-13\n",
      "The sum of f(x)s before we multiply with h/3 is: -4.373640067547288e-13\n",
      "For 5 points, the solution is: -6.870097752826263e-13\n"
     ]
    }
   ],
   "source": [
    "ss5 = Simpson3(5)"
   ]
  },
  {
   "cell_type": "code",
   "execution_count": 300,
   "metadata": {},
   "outputs": [
    {
     "name": "stdout",
     "output_type": "stream",
     "text": [
      "h = 1.8849555921538759\n",
      "The value of f at the end is: -4.141753449797219e-13\n",
      "The sum of f(x)s before we multiply with h/3 is: 15.305199501830014\n",
      "For 11 points, the solution is: 9.616540463335067\n"
     ]
    }
   ],
   "source": [
    "ss10 = Simpson3(11)"
   ]
  },
  {
   "cell_type": "code",
   "execution_count": 301,
   "metadata": {},
   "outputs": [
    {
     "name": "stdout",
     "output_type": "stream",
     "text": [
      "h = 0.03769911184307752\n",
      "The value of f at the end is: -4.141753449797219e-13\n",
      "The sum of f(x)s before we multiply with h/3 is: -309.4184820378245\n",
      "For 501 points, the solution is: -3.8882673202197395\n"
     ]
    }
   ],
   "source": [
    "ss500 = Simpson3(501)"
   ]
  },
  {
   "cell_type": "code",
   "execution_count": 302,
   "metadata": {},
   "outputs": [
    {
     "name": "stdout",
     "output_type": "stream",
     "text": [
      "h = 0.01884955592153876\n",
      "The value of f at the end is: -4.141753449797219e-13\n",
      "The sum of f(x)s before we multiply with h/3 is: -618.700590716089\n",
      "For 1001 points, the solution is: -3.8874104611306612\n"
     ]
    }
   ],
   "source": [
    "ss1000 = Simpson3(1001)"
   ]
  },
  {
   "cell_type": "code",
   "execution_count": 303,
   "metadata": {},
   "outputs": [
    {
     "name": "stdout",
     "output_type": "stream",
     "text": [
      "h = 0.00942477796076938\n",
      "The value of f at the end is: -4.141753449797219e-13\n",
      "The sum of f(x)s before we multiply with h/3 is: -1237.3844458757217\n",
      "For 2001 points, the solution is: -3.8873578848294446\n"
     ]
    }
   ],
   "source": [
    "ss2000 = Simpson3(2001)"
   ]
  },
  {
   "cell_type": "code",
   "execution_count": 304,
   "metadata": {},
   "outputs": [
    {
     "name": "stdout",
     "output_type": "stream",
     "text": [
      "h = 0.0001884955592153876\n",
      "The value of f at the end is: -4.141753449797219e-13\n",
      "The sum of f(x)s before we multiply with h/3 is: -61869.166767288996\n",
      "For 100001 points, the solution is: -3.887354395996738\n"
     ]
    }
   ],
   "source": [
    "ss100000 = Simpson3(100001)"
   ]
  },
  {
   "cell_type": "code",
   "execution_count": null,
   "metadata": {},
   "outputs": [],
   "source": []
  }
 ],
 "metadata": {
  "kernelspec": {
   "display_name": "Python 3",
   "language": "python",
   "name": "python3"
  },
  "language_info": {
   "codemirror_mode": {
    "name": "ipython",
    "version": 3
   },
   "file_extension": ".py",
   "mimetype": "text/x-python",
   "name": "python",
   "nbconvert_exporter": "python",
   "pygments_lexer": "ipython3",
   "version": "3.7.4"
  }
 },
 "nbformat": 4,
 "nbformat_minor": 2
}
